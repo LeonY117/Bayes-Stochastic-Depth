{
 "cells": [
  {
   "cell_type": "markdown",
   "metadata": {},
   "source": [
    "## Two Moon Classification with stochastic depth\n",
    "\n",
    "* We will take the two moon dataset as a dummy dataset that's easy to visualize, and just qualitatively see how the uncertainty boundaries differ compared to dropout.\n",
    "    * IF the results look good, we'll also try to implement other methods such as Laplace Approximation for visualization"
   ]
  },
  {
   "cell_type": "code",
   "execution_count": 24,
   "metadata": {},
   "outputs": [],
   "source": [
    "import torch\n",
    "from torch import nn\n",
    "from torchvision.ops import StochasticDepth\n",
    "\n",
    "import matplotlib.pyplot as plt\n",
    "from sklearn.datasets import make_moons\n",
    "\n",
    "from torch import Tensor\n",
    "from typing import List, Tuple"
   ]
  },
  {
   "cell_type": "markdown",
   "metadata": {},
   "source": [
    "### Two Moon dataset"
   ]
  },
  {
   "cell_type": "code",
   "execution_count": 66,
   "metadata": {},
   "outputs": [],
   "source": [
    "X, Y = make_moons(n_samples=100, shuffle=True, noise=0.1, random_state=1)\n",
    "X, Y = torch.tensor(X, dtype=torch.float32), torch.tensor(Y, dtype=torch.float32)\n",
    "\n",
    "\n",
    "def plot_two_moons(X, Y):\n",
    "    for i in range(len(X)):\n",
    "        plt.scatter(X[i, 0], X[i, 1], c=\"orange\" if Y[i] == 1 else \"green\")"
   ]
  },
  {
   "cell_type": "markdown",
   "metadata": {},
   "source": [
    "### Bayesian Network Wrapper Class"
   ]
  },
  {
   "cell_type": "code",
   "execution_count": 23,
   "metadata": {},
   "outputs": [],
   "source": [
    "class Bayesian_net(nn.Module):\n",
    "    \"\"\"\n",
    "    Bayesian network class has two internal states, dropout_state and stochastic_depth_state.\n",
    "    They overwrite the default behaviour of forward pass to enable switching between bayesian and deterministic modes.\n",
    "    Toggling the states is done by calling set_bayes_mode method.\n",
    "    \"\"\"\n",
    "\n",
    "    def __init__(self) -> None:\n",
    "        super().__init__()\n",
    "        self.dropout_state: bool = False\n",
    "        self.stochastic_depth_state: bool = False\n",
    "\n",
    "    def _toggle_dropout(self) -> None:\n",
    "        # override the default behaviour of dropout layers\n",
    "        if self.dropout_state:\n",
    "            for m in self.modules():\n",
    "                if m.__class__.__name__.startswith(\"Dropout\"):\n",
    "                    m.train()\n",
    "\n",
    "    def _toggle_stochastic_depth(self) -> None:\n",
    "        # override the default behaviour of stochastic depth layers\n",
    "        if self.stochastic_depth_state:\n",
    "            for m in self.modules():\n",
    "                if m.__class__.__name__.startswith(\"StochasticDepth\"):\n",
    "                    m.train()\n",
    "\n",
    "    def _set_dropout(self, state: bool) -> None:\n",
    "        self.dropout_state = state\n",
    "\n",
    "    def _set_stochastic_depth(self, state: bool) -> None:\n",
    "        self.stochastic_depth_state = state\n",
    "\n",
    "    def set_bayes_mode(self, state: bool, mode: str) -> None:\n",
    "        if mode == \"dropout\":\n",
    "            self._set_dropout(state)\n",
    "        elif mode == \"stochastic_depth\":\n",
    "            self._set_stochastic_depth(state)\n",
    "        else:\n",
    "            print(f\"Mode {mode} is not supported.\")\n",
    "\n",
    "    def forward(self, x: Tensor) -> Tensor:\n",
    "        self._toggle_stochastic_depth()\n",
    "        self._toggle_dropout()\n",
    "\n",
    "        return self._forward_impl(x)\n",
    "\n",
    "    def _forward_impl(self, x: Tensor) -> Tensor:\n",
    "        raise NotImplementedError"
   ]
  },
  {
   "cell_type": "markdown",
   "metadata": {},
   "source": [
    "### A simple residual network"
   ]
  },
  {
   "cell_type": "code",
   "execution_count": 35,
   "metadata": {},
   "outputs": [],
   "source": [
    "class Residual_sd_block(nn.Module):\n",
    "    def __init__(self, features: int, p: float = 0.5) -> None:\n",
    "        super().__init__()\n",
    "        self.block = nn.Sequential(\n",
    "            nn.Linear(features, features), nn.BatchNorm1d(features), nn.ReLU()\n",
    "        )\n",
    "        self.p = p\n",
    "        self.sd = StochasticDepth(p, mode=\"row\")\n",
    "\n",
    "    def forward(self, x: Tensor) -> Tensor:\n",
    "        out = self.block(x)\n",
    "        out = self.sd(out)\n",
    "        # apply skip connection\n",
    "        out = x + out\n",
    "        return out"
   ]
  },
  {
   "cell_type": "code",
   "execution_count": 69,
   "metadata": {},
   "outputs": [],
   "source": [
    "class Sd_network(Bayesian_net):\n",
    "    def __init__(self, inp: int, oup: int, N: int, d_feat: int, p=0.5):\n",
    "        super().__init__()\n",
    "        self.blocks = nn.Sequential(\n",
    "            nn.Linear(inp, d_feat),\n",
    "            nn.BatchNorm1d(d_feat),\n",
    "            nn.ReLU(),\n",
    "            *[Residual_sd_block(d_feat, p=p) for _ in range(N)],\n",
    "            nn.Linear(d_feat, oup),\n",
    "            nn.Sigmoid()\n",
    "        )\n",
    "\n",
    "    def _forward_impl(self, x: Tensor) -> Tensor:\n",
    "        return self.blocks(x)"
   ]
  },
  {
   "cell_type": "code",
   "execution_count": 76,
   "metadata": {},
   "outputs": [
    {
     "data": {
      "image/png": "[encoded data removed]",
      "text/plain": [
       "<Figure size 640x480 with 1 Axes>"
      ]
     },
     "metadata": {},
     "output_type": "display_data"
    }
   ],
   "source": [
    "net = Sd_network(2, 1, 10, 5, p=0.5)\n",
    "\n",
    "linear_layer = nn.Linear(2, 5)\n",
    "y_pred = net(X) > 0.5\n",
    "\n",
    "plot_two_moons(X, y_pred)"
   ]
  }
 ],
 "metadata": {
  "kernelspec": {
   "display_name": "torch-mps",
   "language": "python",
   "name": "python3"
  },
  "language_info": {
   "codemirror_mode": {
    "name": "ipython",
    "version": 3
   },
   "file_extension": ".py",
   "mimetype": "text/x-python",
   "name": "python",
   "nbconvert_exporter": "python",
   "pygments_lexer": "ipython3",
   "version": "3.10.13"
  }
 },
 "nbformat": 4,
 "nbformat_minor": 2
}
